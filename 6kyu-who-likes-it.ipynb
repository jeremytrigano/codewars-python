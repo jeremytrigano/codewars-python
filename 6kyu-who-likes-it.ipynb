{
 "cells": [
  {
   "cell_type": "markdown",
   "metadata": {},
   "source": [
    "# https://www.codewars.com/kata/who-likes-it\n",
    "You probably know the \"like\" system from Facebook and other pages. People can \"like\" blog posts, pictures or other items. We want to create the text that should be displayed next to such an item.\n",
    "\n",
    "Implement a function `likes :: [String] -> String`, which must take in input array, containing the names of people who like an item. It must return the display text as shown in the examples:\n",
    "\n",
    "```\n",
    "likes([]) # must be \"no one likes this\"\n",
    "likes([\"Peter\"]) # must be \"Peter likes this\"\n",
    "likes([\"Jacob\", \"Alex\"]) # must be \"Jacob and Alex like this\"\n",
    "likes([\"Max\", \"John\", \"Mark\"]) # must be \"Max, John and Mark like this\"\n",
    "likes([\"Alex\", \"Jacob\", \"Mark\", \"Max\"]) # must be \"Alex, Jacob and 2 others like this\"\n",
    "```\n",
    "\n",
    "For 4 or more names, the number in `and 2 others` simply increases."
   ]
  },
  {
   "cell_type": "markdown",
   "metadata": {},
   "source": [
    "## My code"
   ]
  },
  {
   "cell_type": "code",
   "execution_count": 10,
   "metadata": {},
   "outputs": [],
   "source": [
    "def likes(names):\n",
    "  arrLen = len(names)\n",
    "  returnedString = ''\n",
    "  # if array is empty\n",
    "  if arrLen == 0:\n",
    "    returnedString = 'no one likes'\n",
    "  # elif array length is 1\n",
    "  elif arrLen == 1:\n",
    "    returnedString = f'{names[0]} likes'\n",
    "  # elif array length is 2\n",
    "  elif arrLen == 2:\n",
    "    returnedString = f'{names[0]} and {names[1]} like'\n",
    "  # elif array length is 3\n",
    "  elif arrLen == 3:\n",
    "    returnedString = f'{names[0]}, {names[1]} and {names[2]} like'\n",
    "  # elif array length is more than 3\n",
    "  elif arrLen > 3:\n",
    "    returnedString = f'{names[0]}, {names[1]} and {arrLen-2} others like'\n",
    "  return returnedString + ' this'"
   ]
  },
  {
   "cell_type": "markdown",
   "metadata": {},
   "source": [
    "## Some tests"
   ]
  },
  {
   "cell_type": "code",
   "execution_count": 11,
   "metadata": {},
   "outputs": [
    {
     "name": "stdout",
     "output_type": "stream",
     "text": [
      "no one likes this no one likes this\n",
      "Peter likes this Peter likes this\n",
      "Jacob and Alex like this Jacob and Alex like this\n",
      "Max, John and Mark like this Max, John and Mark like this\n",
      "Alex, Jacob and 2 others like this Alex, Jacob and 2 others like this\n"
     ]
    }
   ],
   "source": [
    "print(likes([]), 'no one likes this')\n",
    "print(likes(['Peter']), 'Peter likes this')\n",
    "print(likes(['Jacob', 'Alex']), 'Jacob and Alex like this')\n",
    "print(likes(['Max', 'John', 'Mark']), 'Max, John and Mark like this')\n",
    "print(likes(['Alex', 'Jacob', 'Mark', 'Max']), 'Alex, Jacob and 2 others like this')"
   ]
  },
  {
   "cell_type": "markdown",
   "metadata": {},
   "source": [
    "## Solution"
   ]
  },
  {
   "cell_type": "code",
   "execution_count": 4,
   "metadata": {},
   "outputs": [],
   "source": [
    "def likes(names):\n",
    "    n = len(names)\n",
    "    return {\n",
    "        0: 'no one likes this',\n",
    "        1: '{} likes this', \n",
    "        2: '{} and {} like this', \n",
    "        3: '{}, {} and {} like this', \n",
    "        4: '{}, {} and {others} others like this'\n",
    "    }[min(4, n)].format(*names[:3], others=n-2)"
   ]
  }
 ],
 "metadata": {
  "kernelspec": {
   "display_name": "Python 3",
   "language": "python",
   "name": "python3"
  },
  "language_info": {
   "codemirror_mode": {
    "name": "ipython",
    "version": 3
   },
   "file_extension": ".py",
   "mimetype": "text/x-python",
   "name": "python",
   "nbconvert_exporter": "python",
   "pygments_lexer": "ipython3",
   "version": "3.7.5"
  }
 },
 "nbformat": 4,
 "nbformat_minor": 4
}
