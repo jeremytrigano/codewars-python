{
 "cells": [
  {
   "cell_type": "markdown",
   "metadata": {},
   "source": [
    "# https://www.codewars.com/kata/create-phone-number\n",
    "Write a function that accepts an array of 10 integers (between 0 and 9), that returns a string of those numbers in the form of a phone number.\n",
    "\n",
    "### Example:\n",
    "\n",
    "```\n",
    "create_phone_number([1, 2, 3, 4, 5, 6, 7, 8, 9, 0]) # => returns \"(123) 456-7890\"\n",
    "```\n",
    "\n",
    "The returned format must be correct in order to complete this challenge.\\\n",
    "Don't forget the space after the closing parentheses!"
   ]
  },
  {
   "cell_type": "markdown",
   "metadata": {},
   "source": [
    "## My code"
   ]
  },
  {
   "cell_type": "code",
   "execution_count": 3,
   "metadata": {},
   "outputs": [],
   "source": [
    "def create_phone_number(n):\n",
    "  return f'({n[0]}{n[1]}{n[2]}) {n[3]}{n[4]}{n[5]}-{n[6]}{n[7]}{n[8]}{n[9]}'"
   ]
  },
  {
   "cell_type": "markdown",
   "metadata": {},
   "source": [
    "## Some tests"
   ]
  },
  {
   "cell_type": "code",
   "execution_count": 4,
   "metadata": {},
   "outputs": [
    {
     "name": "stdout",
     "output_type": "stream",
     "text": [
      "(123) 456-7890 (123) 456-7890\n",
      "(111) 111-1111 (111) 111-1111\n",
      "(123) 456-7890 (123) 456-7890\n",
      "(023) 056-0890 (023) 056-0890\n",
      "(000) 000-0000 (000) 000-0000\n"
     ]
    }
   ],
   "source": [
    "print(create_phone_number([1, 2, 3, 4, 5, 6, 7, 8, 9, 0]), \"(123) 456-7890\")\n",
    "print(create_phone_number([1, 1, 1, 1, 1, 1, 1, 1, 1, 1]), \"(111) 111-1111\")\n",
    "print(create_phone_number([1, 2, 3, 4, 5, 6, 7, 8, 9, 0]), \"(123) 456-7890\")\n",
    "print(create_phone_number([0, 2, 3, 0, 5, 6, 0, 8, 9, 0]), \"(023) 056-0890\")\n",
    "print(create_phone_number([0, 0, 0, 0, 0, 0, 0, 0, 0, 0]), \"(000) 000-0000\")"
   ]
  },
  {
   "cell_type": "markdown",
   "metadata": {},
   "source": [
    "## Solution"
   ]
  },
  {
   "cell_type": "code",
   "execution_count": 4,
   "metadata": {},
   "outputs": [],
   "source": [
    "def create_phone_number(n):\n",
    "    return \"({}{}{}) {}{}{}-{}{}{}{}\".format(*n)"
   ]
  }
 ],
 "metadata": {
  "kernelspec": {
   "display_name": "Python 3",
   "language": "python",
   "name": "python3"
  },
  "language_info": {
   "codemirror_mode": {
    "name": "ipython",
    "version": 3
   },
   "file_extension": ".py",
   "mimetype": "text/x-python",
   "name": "python",
   "nbconvert_exporter": "python",
   "pygments_lexer": "ipython3",
   "version": "3.7.5"
  }
 },
 "nbformat": 4,
 "nbformat_minor": 4
}
